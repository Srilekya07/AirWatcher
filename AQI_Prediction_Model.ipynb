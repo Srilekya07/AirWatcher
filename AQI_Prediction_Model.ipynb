{
 "cells": [
  {
   "cell_type": "code",
   "execution_count": 19,
   "id": "047c677b-dbde-498c-84dc-ff8608fbfdc1",
   "metadata": {},
   "outputs": [],
   "source": [
    "#importing necessary libraries\n",
    "import numpy as np\n",
    "import pandas as pd #data manipulation \n",
    "import matplotlib.pyplot as plt\n",
    "import seaborn as sns\n",
    "from warnings import filterwarnings\n",
    "filterwarnings('ignore')  # Suppress warnings"
   ]
  },
  {
   "cell_type": "code",
   "execution_count": 3,
   "id": "8273b232-0c74-4120-ac90-ed61f850b9f1",
   "metadata": {},
   "outputs": [
    {
     "name": "stdout",
     "output_type": "stream",
     "text": [
      " Volume in drive C has no label.\n",
      " Volume Serial Number is 143F-DF3F\n",
      "\n",
      " Directory of C:\\Users\\hi\\OneDrive\\Desktop\\Green Skills AI SHELL\\AIR QUALITY PREDICTION\n",
      "\n",
      "24-02-2025  17:56    <DIR>          .\n",
      "24-02-2025  17:56    <DIR>          ..\n",
      "24-02-2025  17:55    <DIR>          .ipynb_checkpoints\n",
      "24-02-2025  17:26         2,574,056 air quality data.csv\n",
      "24-02-2025  17:56               617 AQI_Prediction_Model.ipynb\n",
      "               2 File(s)      2,574,673 bytes\n",
      "               3 Dir(s)  23,269,736,448 bytes free\n"
     ]
    }
   ],
   "source": [
    "ls"
   ]
  },
  {
   "cell_type": "code",
   "execution_count": 22,
   "id": "573d30fa-9e10-4681-bb9e-a59f607447e9",
   "metadata": {},
   "outputs": [
    {
     "data": {
      "text/html": [
       "<div>\n",
       "<style scoped>\n",
       "    .dataframe tbody tr th:only-of-type {\n",
       "        vertical-align: middle;\n",
       "    }\n",
       "\n",
       "    .dataframe tbody tr th {\n",
       "        vertical-align: top;\n",
       "    }\n",
       "\n",
       "    .dataframe thead th {\n",
       "        text-align: right;\n",
       "    }\n",
       "</style>\n",
       "<table border=\"1\" class=\"dataframe\">\n",
       "  <thead>\n",
       "    <tr style=\"text-align: right;\">\n",
       "      <th></th>\n",
       "      <th>City</th>\n",
       "      <th>Date</th>\n",
       "      <th>PM2.5</th>\n",
       "      <th>PM10</th>\n",
       "      <th>NO</th>\n",
       "      <th>NO2</th>\n",
       "      <th>NOx</th>\n",
       "      <th>NH3</th>\n",
       "      <th>CO</th>\n",
       "      <th>SO2</th>\n",
       "      <th>O3</th>\n",
       "      <th>Benzene</th>\n",
       "      <th>Toluene</th>\n",
       "      <th>Xylene</th>\n",
       "      <th>AQI</th>\n",
       "      <th>AQI_Bucket</th>\n",
       "    </tr>\n",
       "  </thead>\n",
       "  <tbody>\n",
       "    <tr>\n",
       "      <th>0</th>\n",
       "      <td>Ahmedabad</td>\n",
       "      <td>2015-01-01</td>\n",
       "      <td>NaN</td>\n",
       "      <td>NaN</td>\n",
       "      <td>0.92</td>\n",
       "      <td>18.22</td>\n",
       "      <td>17.15</td>\n",
       "      <td>NaN</td>\n",
       "      <td>0.92</td>\n",
       "      <td>27.64</td>\n",
       "      <td>133.36</td>\n",
       "      <td>0.00</td>\n",
       "      <td>0.02</td>\n",
       "      <td>0.00</td>\n",
       "      <td>NaN</td>\n",
       "      <td>NaN</td>\n",
       "    </tr>\n",
       "    <tr>\n",
       "      <th>1</th>\n",
       "      <td>Ahmedabad</td>\n",
       "      <td>2015-01-02</td>\n",
       "      <td>NaN</td>\n",
       "      <td>NaN</td>\n",
       "      <td>0.97</td>\n",
       "      <td>15.69</td>\n",
       "      <td>16.46</td>\n",
       "      <td>NaN</td>\n",
       "      <td>0.97</td>\n",
       "      <td>24.55</td>\n",
       "      <td>34.06</td>\n",
       "      <td>3.68</td>\n",
       "      <td>5.50</td>\n",
       "      <td>3.77</td>\n",
       "      <td>NaN</td>\n",
       "      <td>NaN</td>\n",
       "    </tr>\n",
       "    <tr>\n",
       "      <th>2</th>\n",
       "      <td>Ahmedabad</td>\n",
       "      <td>2015-01-03</td>\n",
       "      <td>NaN</td>\n",
       "      <td>NaN</td>\n",
       "      <td>17.40</td>\n",
       "      <td>19.30</td>\n",
       "      <td>29.70</td>\n",
       "      <td>NaN</td>\n",
       "      <td>17.40</td>\n",
       "      <td>29.07</td>\n",
       "      <td>30.70</td>\n",
       "      <td>6.80</td>\n",
       "      <td>16.40</td>\n",
       "      <td>2.25</td>\n",
       "      <td>NaN</td>\n",
       "      <td>NaN</td>\n",
       "    </tr>\n",
       "    <tr>\n",
       "      <th>3</th>\n",
       "      <td>Ahmedabad</td>\n",
       "      <td>2015-01-04</td>\n",
       "      <td>NaN</td>\n",
       "      <td>NaN</td>\n",
       "      <td>1.70</td>\n",
       "      <td>18.48</td>\n",
       "      <td>17.97</td>\n",
       "      <td>NaN</td>\n",
       "      <td>1.70</td>\n",
       "      <td>18.59</td>\n",
       "      <td>36.08</td>\n",
       "      <td>4.43</td>\n",
       "      <td>10.14</td>\n",
       "      <td>1.00</td>\n",
       "      <td>NaN</td>\n",
       "      <td>NaN</td>\n",
       "    </tr>\n",
       "    <tr>\n",
       "      <th>4</th>\n",
       "      <td>Ahmedabad</td>\n",
       "      <td>2015-01-05</td>\n",
       "      <td>NaN</td>\n",
       "      <td>NaN</td>\n",
       "      <td>22.10</td>\n",
       "      <td>21.42</td>\n",
       "      <td>37.76</td>\n",
       "      <td>NaN</td>\n",
       "      <td>22.10</td>\n",
       "      <td>39.33</td>\n",
       "      <td>39.31</td>\n",
       "      <td>7.01</td>\n",
       "      <td>18.89</td>\n",
       "      <td>2.78</td>\n",
       "      <td>NaN</td>\n",
       "      <td>NaN</td>\n",
       "    </tr>\n",
       "  </tbody>\n",
       "</table>\n",
       "</div>"
      ],
      "text/plain": [
       "        City        Date  PM2.5  PM10     NO    NO2    NOx  NH3     CO    SO2  \\\n",
       "0  Ahmedabad  2015-01-01    NaN   NaN   0.92  18.22  17.15  NaN   0.92  27.64   \n",
       "1  Ahmedabad  2015-01-02    NaN   NaN   0.97  15.69  16.46  NaN   0.97  24.55   \n",
       "2  Ahmedabad  2015-01-03    NaN   NaN  17.40  19.30  29.70  NaN  17.40  29.07   \n",
       "3  Ahmedabad  2015-01-04    NaN   NaN   1.70  18.48  17.97  NaN   1.70  18.59   \n",
       "4  Ahmedabad  2015-01-05    NaN   NaN  22.10  21.42  37.76  NaN  22.10  39.33   \n",
       "\n",
       "       O3  Benzene  Toluene  Xylene  AQI AQI_Bucket  \n",
       "0  133.36     0.00     0.02    0.00  NaN        NaN  \n",
       "1   34.06     3.68     5.50    3.77  NaN        NaN  \n",
       "2   30.70     6.80    16.40    2.25  NaN        NaN  \n",
       "3   36.08     4.43    10.14    1.00  NaN        NaN  \n",
       "4   39.31     7.01    18.89    2.78  NaN        NaN  "
      ]
     },
     "metadata": {},
     "output_type": "display_data"
    }
   ],
   "source": [
    "# load the dataset\n",
    "df=pd.read_csv('air quality data.csv')\n",
    "display(df.head()) #displaying first 5 rows"
   ]
  },
  {
   "cell_type": "code",
   "execution_count": 8,
   "id": "6ae1a9b2-d068-49e4-ba41-7231c5015c11",
   "metadata": {},
   "outputs": [
    {
     "data": {
      "text/plain": [
       "(29531, 16)"
      ]
     },
     "execution_count": 8,
     "metadata": {},
     "output_type": "execute_result"
    }
   ],
   "source": [
    "df.shape #rows and cols"
   ]
  },
  {
   "cell_type": "code",
   "execution_count": 9,
   "id": "3f1dd616-efd1-4546-ac39-49763b495e1f",
   "metadata": {},
   "outputs": [
    {
     "data": {
      "text/plain": [
       "<bound method DataFrame.info of                 City        Date  PM2.5   PM10     NO    NO2    NOx    NH3  \\\n",
       "0          Ahmedabad  2015-01-01    NaN    NaN   0.92  18.22  17.15    NaN   \n",
       "1          Ahmedabad  2015-01-02    NaN    NaN   0.97  15.69  16.46    NaN   \n",
       "2          Ahmedabad  2015-01-03    NaN    NaN  17.40  19.30  29.70    NaN   \n",
       "3          Ahmedabad  2015-01-04    NaN    NaN   1.70  18.48  17.97    NaN   \n",
       "4          Ahmedabad  2015-01-05    NaN    NaN  22.10  21.42  37.76    NaN   \n",
       "...              ...         ...    ...    ...    ...    ...    ...    ...   \n",
       "29526  Visakhapatnam  2020-06-27  15.02  50.94   7.68  25.06  19.54  12.47   \n",
       "29527  Visakhapatnam  2020-06-28  24.38  74.09   3.42  26.06  16.53  11.99   \n",
       "29528  Visakhapatnam  2020-06-29  22.91  65.73   3.45  29.53  18.33  10.71   \n",
       "29529  Visakhapatnam  2020-06-30  16.64  49.97   4.05  29.26  18.80  10.03   \n",
       "29530  Visakhapatnam  2020-07-01  15.00  66.00   0.40  26.85  14.05   5.20   \n",
       "\n",
       "          CO    SO2      O3  Benzene  Toluene  Xylene   AQI    AQI_Bucket  \n",
       "0       0.92  27.64  133.36     0.00     0.02    0.00   NaN           NaN  \n",
       "1       0.97  24.55   34.06     3.68     5.50    3.77   NaN           NaN  \n",
       "2      17.40  29.07   30.70     6.80    16.40    2.25   NaN           NaN  \n",
       "3       1.70  18.59   36.08     4.43    10.14    1.00   NaN           NaN  \n",
       "4      22.10  39.33   39.31     7.01    18.89    2.78   NaN           NaN  \n",
       "...      ...    ...     ...      ...      ...     ...   ...           ...  \n",
       "29526   0.47   8.55   23.30     2.24    12.07    0.73  41.0          Good  \n",
       "29527   0.52  12.72   30.14     0.74     2.21    0.38  70.0  Satisfactory  \n",
       "29528   0.48   8.42   30.96     0.01     0.01    0.00  68.0  Satisfactory  \n",
       "29529   0.52   9.84   28.30     0.00     0.00    0.00  54.0  Satisfactory  \n",
       "29530   0.59   2.10   17.05      NaN      NaN     NaN  50.0          Good  \n",
       "\n",
       "[29531 rows x 16 columns]>"
      ]
     },
     "execution_count": 9,
     "metadata": {},
     "output_type": "execute_result"
    }
   ],
   "source": [
    "df.info"
   ]
  },
  {
   "cell_type": "code",
   "execution_count": 24,
   "id": "c7ab0acb-6852-4c47-be45-292a7f825901",
   "metadata": {},
   "outputs": [
    {
     "data": {
      "text/plain": [
       "0"
      ]
     },
     "execution_count": 24,
     "metadata": {},
     "output_type": "execute_result"
    }
   ],
   "source": [
    "# check for duplicate rows\n",
    "df.duplicated().sum()"
   ]
  },
  {
   "cell_type": "code",
   "execution_count": 26,
   "id": "dad673bc-e0ef-48db-bd11-49f5e8d6cd05",
   "metadata": {},
   "outputs": [
    {
     "data": {
      "text/plain": [
       "City              0\n",
       "Date              0\n",
       "PM2.5          4598\n",
       "PM10          11140\n",
       "NO             3582\n",
       "NO2            3585\n",
       "NOx            4185\n",
       "NH3           10328\n",
       "CO             2059\n",
       "SO2            3854\n",
       "O3             4022\n",
       "Benzene        5623\n",
       "Toluene        8041\n",
       "Xylene        18109\n",
       "AQI            4681\n",
       "AQI_Bucket     4681\n",
       "dtype: int64"
      ]
     },
     "execution_count": 26,
     "metadata": {},
     "output_type": "execute_result"
    }
   ],
   "source": [
    "# check for missing values\n",
    "df.isnull().sum()"
   ]
  },
  {
   "cell_type": "code",
   "execution_count": 38,
   "id": "628688c1-6d26-4625-b551-ee3192bc72f4",
   "metadata": {},
   "outputs": [
    {
     "name": "stdout",
     "output_type": "stream",
     "text": [
      "Rows with missing 'AQI' values have been dropped. New shape: (24850, 16)\n"
     ]
    }
   ],
   "source": [
    "# Drop the rows where 'AQI' has missing values\n",
    "\n",
    "# df.dropna(subset=['AQI'], inplace = True) or\n",
    "\n",
    "if 'AQI' in df.columns:\n",
    "    df.dropna(subset=['AQI'], inplace=True)\n",
    "    print(f\"Rows with missing 'AQI' values have been dropped. New shape: {df.shape}\")\n",
    "else:\n",
    "    print(\"'AQI' column not found in the dataset.\")"
   ]
  },
  {
   "cell_type": "code",
   "execution_count": 31,
   "id": "017f9981-9eb2-4f4c-8ef8-a64ec2430d79",
   "metadata": {},
   "outputs": [
    {
     "data": {
      "text/plain": [
       "Xylene        15372\n",
       "PM10           7086\n",
       "NH3            6536\n",
       "Toluene        5826\n",
       "Benzene        3535\n",
       "NOx            1857\n",
       "O3              807\n",
       "PM2.5           678\n",
       "SO2             605\n",
       "CO              445\n",
       "NO2             391\n",
       "NO              387\n",
       "City              0\n",
       "Date              0\n",
       "AQI               0\n",
       "AQI_Bucket        0\n",
       "dtype: int64"
      ]
     },
     "execution_count": 31,
     "metadata": {},
     "output_type": "execute_result"
    }
   ],
   "source": [
    "df.isnull().sum().sort_values(ascending=False)"
   ]
  },
  {
   "cell_type": "code",
   "execution_count": 33,
   "id": "f5f94364-0974-4024-9e05-dfcabc8f661e",
   "metadata": {},
   "outputs": [
    {
     "data": {
      "text/html": [
       "<div>\n",
       "<style scoped>\n",
       "    .dataframe tbody tr th:only-of-type {\n",
       "        vertical-align: middle;\n",
       "    }\n",
       "\n",
       "    .dataframe tbody tr th {\n",
       "        vertical-align: top;\n",
       "    }\n",
       "\n",
       "    .dataframe thead th {\n",
       "        text-align: right;\n",
       "    }\n",
       "</style>\n",
       "<table border=\"1\" class=\"dataframe\">\n",
       "  <thead>\n",
       "    <tr style=\"text-align: right;\">\n",
       "      <th></th>\n",
       "      <th>count</th>\n",
       "      <th>mean</th>\n",
       "      <th>std</th>\n",
       "      <th>min</th>\n",
       "      <th>25%</th>\n",
       "      <th>50%</th>\n",
       "      <th>75%</th>\n",
       "      <th>max</th>\n",
       "    </tr>\n",
       "  </thead>\n",
       "  <tbody>\n",
       "    <tr>\n",
       "      <th>PM2.5</th>\n",
       "      <td>24172.0</td>\n",
       "      <td>67.476613</td>\n",
       "      <td>63.075398</td>\n",
       "      <td>0.04</td>\n",
       "      <td>29.0000</td>\n",
       "      <td>48.785</td>\n",
       "      <td>80.9250</td>\n",
       "      <td>914.94</td>\n",
       "    </tr>\n",
       "    <tr>\n",
       "      <th>PM10</th>\n",
       "      <td>17764.0</td>\n",
       "      <td>118.454435</td>\n",
       "      <td>89.487976</td>\n",
       "      <td>0.03</td>\n",
       "      <td>56.7775</td>\n",
       "      <td>96.180</td>\n",
       "      <td>150.1825</td>\n",
       "      <td>917.08</td>\n",
       "    </tr>\n",
       "    <tr>\n",
       "      <th>NO</th>\n",
       "      <td>24463.0</td>\n",
       "      <td>17.622421</td>\n",
       "      <td>22.421138</td>\n",
       "      <td>0.03</td>\n",
       "      <td>5.6600</td>\n",
       "      <td>9.910</td>\n",
       "      <td>20.0300</td>\n",
       "      <td>390.68</td>\n",
       "    </tr>\n",
       "    <tr>\n",
       "      <th>NO2</th>\n",
       "      <td>24459.0</td>\n",
       "      <td>28.978391</td>\n",
       "      <td>24.627054</td>\n",
       "      <td>0.01</td>\n",
       "      <td>11.9400</td>\n",
       "      <td>22.100</td>\n",
       "      <td>38.2400</td>\n",
       "      <td>362.21</td>\n",
       "    </tr>\n",
       "    <tr>\n",
       "      <th>NOx</th>\n",
       "      <td>22993.0</td>\n",
       "      <td>32.289012</td>\n",
       "      <td>30.712855</td>\n",
       "      <td>0.00</td>\n",
       "      <td>13.1100</td>\n",
       "      <td>23.680</td>\n",
       "      <td>40.1700</td>\n",
       "      <td>378.24</td>\n",
       "    </tr>\n",
       "    <tr>\n",
       "      <th>NH3</th>\n",
       "      <td>18314.0</td>\n",
       "      <td>23.848366</td>\n",
       "      <td>25.875981</td>\n",
       "      <td>0.01</td>\n",
       "      <td>8.9600</td>\n",
       "      <td>16.310</td>\n",
       "      <td>30.3600</td>\n",
       "      <td>352.89</td>\n",
       "    </tr>\n",
       "    <tr>\n",
       "      <th>CO</th>\n",
       "      <td>24405.0</td>\n",
       "      <td>2.345267</td>\n",
       "      <td>7.075208</td>\n",
       "      <td>0.00</td>\n",
       "      <td>0.5900</td>\n",
       "      <td>0.930</td>\n",
       "      <td>1.4800</td>\n",
       "      <td>175.81</td>\n",
       "    </tr>\n",
       "    <tr>\n",
       "      <th>SO2</th>\n",
       "      <td>24245.0</td>\n",
       "      <td>14.362933</td>\n",
       "      <td>17.428693</td>\n",
       "      <td>0.01</td>\n",
       "      <td>5.7300</td>\n",
       "      <td>9.220</td>\n",
       "      <td>15.1400</td>\n",
       "      <td>186.08</td>\n",
       "    </tr>\n",
       "    <tr>\n",
       "      <th>O3</th>\n",
       "      <td>24043.0</td>\n",
       "      <td>34.912885</td>\n",
       "      <td>21.724525</td>\n",
       "      <td>0.01</td>\n",
       "      <td>19.2500</td>\n",
       "      <td>31.250</td>\n",
       "      <td>46.0800</td>\n",
       "      <td>257.73</td>\n",
       "    </tr>\n",
       "    <tr>\n",
       "      <th>Benzene</th>\n",
       "      <td>21315.0</td>\n",
       "      <td>3.458668</td>\n",
       "      <td>16.036020</td>\n",
       "      <td>0.00</td>\n",
       "      <td>0.2300</td>\n",
       "      <td>1.290</td>\n",
       "      <td>3.3400</td>\n",
       "      <td>455.03</td>\n",
       "    </tr>\n",
       "    <tr>\n",
       "      <th>Toluene</th>\n",
       "      <td>19024.0</td>\n",
       "      <td>9.525714</td>\n",
       "      <td>20.881085</td>\n",
       "      <td>0.00</td>\n",
       "      <td>1.0275</td>\n",
       "      <td>3.575</td>\n",
       "      <td>10.1800</td>\n",
       "      <td>454.85</td>\n",
       "    </tr>\n",
       "    <tr>\n",
       "      <th>Xylene</th>\n",
       "      <td>9478.0</td>\n",
       "      <td>3.588683</td>\n",
       "      <td>6.754324</td>\n",
       "      <td>0.00</td>\n",
       "      <td>0.3900</td>\n",
       "      <td>1.420</td>\n",
       "      <td>4.1200</td>\n",
       "      <td>170.37</td>\n",
       "    </tr>\n",
       "    <tr>\n",
       "      <th>AQI</th>\n",
       "      <td>24850.0</td>\n",
       "      <td>166.463581</td>\n",
       "      <td>140.696585</td>\n",
       "      <td>13.00</td>\n",
       "      <td>81.0000</td>\n",
       "      <td>118.000</td>\n",
       "      <td>208.0000</td>\n",
       "      <td>2049.00</td>\n",
       "    </tr>\n",
       "  </tbody>\n",
       "</table>\n",
       "</div>"
      ],
      "text/plain": [
       "           count        mean         std    min      25%      50%       75%  \\\n",
       "PM2.5    24172.0   67.476613   63.075398   0.04  29.0000   48.785   80.9250   \n",
       "PM10     17764.0  118.454435   89.487976   0.03  56.7775   96.180  150.1825   \n",
       "NO       24463.0   17.622421   22.421138   0.03   5.6600    9.910   20.0300   \n",
       "NO2      24459.0   28.978391   24.627054   0.01  11.9400   22.100   38.2400   \n",
       "NOx      22993.0   32.289012   30.712855   0.00  13.1100   23.680   40.1700   \n",
       "NH3      18314.0   23.848366   25.875981   0.01   8.9600   16.310   30.3600   \n",
       "CO       24405.0    2.345267    7.075208   0.00   0.5900    0.930    1.4800   \n",
       "SO2      24245.0   14.362933   17.428693   0.01   5.7300    9.220   15.1400   \n",
       "O3       24043.0   34.912885   21.724525   0.01  19.2500   31.250   46.0800   \n",
       "Benzene  21315.0    3.458668   16.036020   0.00   0.2300    1.290    3.3400   \n",
       "Toluene  19024.0    9.525714   20.881085   0.00   1.0275    3.575   10.1800   \n",
       "Xylene    9478.0    3.588683    6.754324   0.00   0.3900    1.420    4.1200   \n",
       "AQI      24850.0  166.463581  140.696585  13.00  81.0000  118.000  208.0000   \n",
       "\n",
       "             max  \n",
       "PM2.5     914.94  \n",
       "PM10      917.08  \n",
       "NO        390.68  \n",
       "NO2       362.21  \n",
       "NOx       378.24  \n",
       "NH3       352.89  \n",
       "CO        175.81  \n",
       "SO2       186.08  \n",
       "O3        257.73  \n",
       "Benzene   455.03  \n",
       "Toluene   454.85  \n",
       "Xylene    170.37  \n",
       "AQI      2049.00  "
      ]
     },
     "metadata": {},
     "output_type": "display_data"
    }
   ],
   "source": [
    "#Summary of statistics in dataset\n",
    "#df.describe()\n",
    "display(df.describe().T) #changing rows into columns"
   ]
  },
  {
   "cell_type": "code",
   "execution_count": 34,
   "id": "87bf58a6-3967-467b-8d8f-8c213568c5ac",
   "metadata": {},
   "outputs": [
    {
     "data": {
      "text/plain": [
       "Xylene        61.859155\n",
       "PM10          28.515091\n",
       "NH3           26.301811\n",
       "Toluene       23.444668\n",
       "Benzene       14.225352\n",
       "NOx            7.472837\n",
       "O3             3.247485\n",
       "PM2.5          2.728370\n",
       "SO2            2.434608\n",
       "CO             1.790744\n",
       "NO2            1.573441\n",
       "NO             1.557344\n",
       "City           0.000000\n",
       "Date           0.000000\n",
       "AQI            0.000000\n",
       "AQI_Bucket     0.000000\n",
       "dtype: float64"
      ]
     },
     "execution_count": 34,
     "metadata": {},
     "output_type": "execute_result"
    }
   ],
   "source": [
    "# percentage of null values\n",
    "null_values_percentage=(df.isnull().sum()/df.isnull().count()*100).sort_values(ascending=False)\n",
    "null_values_percentage"
   ]
  },
  {
   "cell_type": "markdown",
   "id": "3906f076-4564-4e6b-8ad4-f5df48c5731d",
   "metadata": {},
   "source": [
    "### 🔥 What does the heatmap look like?\n",
    "##### Each row represents a data entry (like a day’s air quality reading).\n",
    "##### Each column corresponds to a feature (like temperature, AQI, etc.).\n",
    "##### Yellow or white cells = missing data (NaN).\n",
    "##### Purple or black cells = non-missing data.\n",
    "##### The result is a quick visual summary of which columns have the most missing values and whether the gaps follow a pattern — like if certain dates have more missing data than others."
   ]
  },
  {
   "cell_type": "code",
   "execution_count": 46,
   "id": "bf7ab6ba-9ebd-4b09-bfe3-e2277af728ad",
   "metadata": {},
   "outputs": [
    {
     "data": {
      "image/png": "[encoded data removed]",
      "text/plain": [
       "<Figure size 1000x600 with 1 Axes>"
      ]
     },
     "metadata": {},
     "output_type": "display_data"
    }
   ],
   "source": [
    "# Visualizing missing values \n",
    "plt.figure(figsize=(10, 6))\n",
    "sns.heatmap(df.isnull(), cbar=False, cmap='magma')\n",
    "plt.title('Missing Values Heatmap')\n",
    "plt.show()"
   ]
  },
  {
   "cell_type": "code",
   "execution_count": null,
   "id": "9f1eda2b-66fd-46c5-83c0-505a06b10152",
   "metadata": {},
   "outputs": [],
   "source": []
  }
 ],
 "metadata": {
  "kernelspec": {
   "display_name": "Python 3 (ipykernel)",
   "language": "python",
   "name": "python3"
  },
  "language_info": {
   "codemirror_mode": {
    "name": "ipython",
    "version": 3
   },
   "file_extension": ".py",
   "mimetype": "text/x-python",
   "name": "python",
   "nbconvert_exporter": "python",
   "pygments_lexer": "ipython3",
   "version": "3.12.4"
  }
 },
 "nbformat": 4,
 "nbformat_minor": 5
}
